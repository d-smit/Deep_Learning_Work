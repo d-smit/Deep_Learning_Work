{
  "nbformat": 4,
  "nbformat_minor": 0,
  "metadata": {
    "kernelspec": {
      "display_name": "aerolab",
      "language": "python",
      "name": "aerolab"
    },
    "language_info": {
      "codemirror_mode": {
        "name": "ipython",
        "version": 3
      },
      "file_extension": ".py",
      "mimetype": "text/x-python",
      "name": "python",
      "nbconvert_exporter": "python",
      "pygments_lexer": "ipython3",
      "version": "3.6.9"
    },
    "colab": {
      "name": "road_segmentation.ipynb",
      "provenance": [],
      "collapsed_sections": [],
      "toc_visible": true,
      "include_colab_link": true
    },
    "accelerator": "GPU"
  },
  "cells": [
    {
      "cell_type": "markdown",
      "metadata": {
        "id": "view-in-github",
        "colab_type": "text"
      },
      "source": [
        "<a href=\"https://colab.research.google.com/github/d-smit/Deep_Learning_Work/blob/master/road_segmentation.ipynb\" target=\"_parent\"><img src=\"https://colab.research.google.com/assets/colab-badge.svg\" alt=\"Open In Colab\"/></a>"
      ]
    },
    {
      "cell_type": "code",
      "metadata": {
        "id": "_BV3TemctZBd",
        "colab_type": "code",
        "colab": {
          "base_uri": "https://localhost:8080/",
          "height": 34
        },
        "outputId": "50a017bb-a17b-4a47-c089-b062403a1a69"
      },
      "source": [
        "from google.colab import drive\n",
        "drive.mount('/content/gdrive', force_remount=True)\n",
        "\n",
        "import os \n",
        "import glob \n",
        "import shutil\n",
        "from pathlib import Path\n",
        "import random\n",
        "import cv2\n",
        "import matplotlib.pyplot as plt \n",
        "import numpy as np\n",
        "from PIL import Image\n",
        "from keras.preprocessing.image import load_img"
      ],
      "execution_count": 137,
      "outputs": [
        {
          "output_type": "stream",
          "text": [
            "Mounted at /content/gdrive\n"
          ],
          "name": "stdout"
        }
      ]
    },
    {
      "cell_type": "markdown",
      "metadata": {
        "id": "mqE5-8OZomVN",
        "colab_type": "text"
      },
      "source": [
        "## Set Data Paths"
      ]
    },
    {
      "cell_type": "code",
      "metadata": {
        "id": "Dm_wZXCIWYZa",
        "colab_type": "code",
        "colab": {}
      },
      "source": [
        "roads = '/content/gdrive/My Drive/Colab Notebooks/aerolab_data/road_dataset'"
      ],
      "execution_count": 0,
      "outputs": []
    },
    {
      "cell_type": "code",
      "metadata": {
        "id": "v6D58czrtZBm",
        "colab_type": "code",
        "colab": {}
      },
      "source": [
        "path_to_gt = roads + '/targets/'\n",
        "path_to_imgs = roads + '/source/'"
      ],
      "execution_count": 0,
      "outputs": []
    },
    {
      "cell_type": "markdown",
      "metadata": {
        "id": "iO4y9b3QtZBu",
        "colab_type": "text"
      },
      "source": [
        "## Sort Directories\n",
        "\n",
        "Large number of files mean high amount of memory required to read all at once. If we sort into train/test directories, we can use a generator to instead load images in batches during training. \n"
      ]
    },
    {
      "cell_type": "code",
      "metadata": {
        "id": "EtSCoxf5tZBw",
        "colab_type": "code",
        "colab": {}
      },
      "source": [
        "splits = ['train/', 'val/', 'test/']\n",
        "dirs = [path_to_gt, path_to_imgs]\n",
        "\n",
        "for data in dirs:\n",
        "  for split in splits:\n",
        "    if not os.path.isdir(os.path.join(data, split)):\n",
        "            os.makedirs(os.path.join(data, split))"
      ],
      "execution_count": 0,
      "outputs": []
    },
    {
      "cell_type": "code",
      "metadata": {
        "id": "TF4brJxeyKAo",
        "colab_type": "code",
        "colab": {
          "base_uri": "https://localhost:8080/",
          "height": 51
        },
        "outputId": "6cd1956e-fe1a-44f3-aa74-cdfc8d131a21"
      },
      "source": [
        "imgs = sorted(os.listdir(path_to_imgs))\n",
        "masks = sorted(os.listdir(path_to_gt))\n",
        "\n",
        "if len(imgs) != len(masks):\n",
        "  diffs = set(imgs) ^ set(masks)\n",
        "  imgs = [img for img in imgs if img not in diffs]\n",
        "\n",
        "imgs = imgs[:-3]\n",
        "masks = masks[:-3]\n",
        "\n",
        "print(imgs[-5:])\n",
        "print(masks[-5:])\n",
        "\n",
        "pairs = list(zip(imgs, masks))\n",
        "random.shuffle(pairs)\n",
        "imgs, masks = zip(*pairs)"
      ],
      "execution_count": 150,
      "outputs": [
        {
          "output_type": "stream",
          "text": [
            "['Zachary_6.TIF', 'Zachary_7.TIF', 'Zebulon_2.TIF', 'Zebulon_5.TIF', 'Zebulon_9.TIF']\n",
            "['Zachary_6.TIF', 'Zachary_7.TIF', 'Zebulon_2.TIF', 'Zebulon_5.TIF', 'Zebulon_9.TIF']\n"
          ],
          "name": "stdout"
        }
      ]
    },
    {
      "cell_type": "code",
      "metadata": {
        "id": "yeMCZLou3VgQ",
        "colab_type": "code",
        "colab": {}
      },
      "source": [
        "train_split = int(0.6 * len(imgs))\n",
        "val_split = int(0.8 * len(imgs))"
      ],
      "execution_count": 0,
      "outputs": []
    },
    {
      "cell_type": "code",
      "metadata": {
        "id": "AAGVs92i1-UL",
        "colab_type": "code",
        "colab": {}
      },
      "source": [
        "train_imgs = imgs[:train_split]\n",
        "val_imgs = imgs[train_split:val_split]\n",
        "test_imgs = imgs[val_split:]"
      ],
      "execution_count": 0,
      "outputs": []
    },
    {
      "cell_type": "code",
      "metadata": {
        "id": "9zl5q1bu3OUs",
        "colab_type": "code",
        "colab": {}
      },
      "source": [
        "train_masks = masks[:train_split]\n",
        "val_masks = masks[train_split:val_split]\n",
        "test_masks = masks[val_split:]"
      ],
      "execution_count": 0,
      "outputs": []
    },
    {
      "cell_type": "code",
      "metadata": {
        "id": "9Wl38c_TijTb",
        "colab_type": "code",
        "colab": {}
      },
      "source": [
        "def sort_data(data):\n",
        "\n",
        "  for file in os.listdir(data):\n",
        "          try:\n",
        "            if os.path.isdir(file):\n",
        "              continue\n",
        "            if file in train_imgs or train_masks:\n",
        "              shutil.copy2(os.path.join(data,file), os.path.join(data, split[0]))\n",
        "            elif file in val_imgs or val_masks:\n",
        "              shutil.copy2(os.path.join(data,file), os.path.join(data, split[1]))\n",
        "            elif file in test_imgs or test_masks:\n",
        "              shutil.copy2(os.path.join(data,file), os.path.join(data, split[2]))\n",
        "          except IsADirectoryError:\n",
        "            continue \n",
        "  \n",
        "\n",
        "sort_data(path_to_imgs)"
      ],
      "execution_count": 0,
      "outputs": []
    }
  ]
}